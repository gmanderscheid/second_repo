{
 "cells": [
  {
   "cell_type": "code",
   "execution_count": null,
   "metadata": {},
   "outputs": [],
   "source": [
    "# exemple : get_name_index qui retourne l'index d'un nom dans une liste de nom\n",
    "\n",
    "# Créer une fonction \n",
    "# - get_square_rt qui retourne la racine carré d'un nombre\n",
    "# - get_square qui retourne le carré d'un nombre\n",
    "# - get_diagonal qui retourne la longueur de la diagonale d'un triangle rectangle (pythagore) en prenant en params la longeur des côtés. \n",
    "# Utiliser les deux fonctions d'avant\n",
    "# - get_slice qui retourne une liste des indexes a à b\n",
    "# - get_mean qui retourne la moyenne d'une liste\n",
    "# - get_slice_mean : retourne la moyenne de la liste d'indexe de a à b. Utiliser les deux fonctions d'avant. \n",
    "\n",
    "# Optionnel : prévoir des test avec raise Exception pour mes fonctions.\n",
    "# TypeError, ValueError etc... "
   ]
  },
  {
   "cell_type": "code",
   "execution_count": 29,
   "metadata": {},
   "outputs": [
    {
     "name": "stdout",
     "output_type": "stream",
     "text": [
      "1\n"
     ]
    }
   ],
   "source": [
    "names = [\"guillaume\", \"jean\", \"francois\"]\n",
    "to_find = \"jean\"\n",
    "\n",
    "for index, name in enumerate(names): \n",
    "    if name == to_find:\n",
    "        print(index)"
   ]
  },
  {
   "cell_type": "code",
   "execution_count": 40,
   "metadata": {},
   "outputs": [],
   "source": [
    "def get_name_index(to_find: str, names: list) -> int:\n",
    "    \"\"\"\n",
    "    Takes a string and a list as an input\n",
    "    Returns an int that is the index of the input in that list\n",
    "    \"\"\"\n",
    "    if type(to_find) != str:\n",
    "        raise TypeError(\"to_find should be a string\")\n",
    "    if type(names) != list:\n",
    "        raise TypeError(\"names should be a list\")\n",
    "\n",
    "    for index, name in enumerate(names): \n",
    "        if name == to_find:\n",
    "            return index"
   ]
  },
  {
   "cell_type": "code",
   "execution_count": 42,
   "metadata": {},
   "outputs": [],
   "source": [
    "def get_name_index(to_find, names):\n",
    "    for index, name in enumerate(names): \n",
    "        if name == to_find:\n",
    "            return index"
   ]
  },
  {
   "cell_type": "code",
   "execution_count": 47,
   "metadata": {},
   "outputs": [
    {
     "data": {
      "text/plain": [
       "False"
      ]
     },
     "execution_count": 47,
     "metadata": {},
     "output_type": "execute_result"
    }
   ],
   "source": [
    "type(1) == str"
   ]
  },
  {
   "cell_type": "code",
   "execution_count": 46,
   "metadata": {},
   "outputs": [
    {
     "data": {
      "text/plain": [
       "False"
      ]
     },
     "execution_count": 46,
     "metadata": {},
     "output_type": "execute_result"
    }
   ],
   "source": [
    "isinstance(1, str)"
   ]
  },
  {
   "cell_type": "code",
   "execution_count": 58,
   "metadata": {},
   "outputs": [],
   "source": [
    "# get_square_rt qui retourne la racine carré d'un nombre\n",
    "\n",
    "def get_square_rt(number: (float, int)) -> float:\n",
    "    \"\"\"\n",
    "    Takes a integer \n",
    "    Returns it's square root \n",
    "    \"\"\"\n",
    "    if not isinstance(number, (float, int)):\n",
    "        raise TypeError(\"number should be a float or an int\")\n",
    "    if number <= 0: \n",
    "        raise AssertionError(\"number should be positive\")\n",
    "    return number ** (1/2)"
   ]
  },
  {
   "cell_type": "code",
   "execution_count": 61,
   "metadata": {},
   "outputs": [],
   "source": [
    "def get_square(number):\n",
    "    return number * number"
   ]
  },
  {
   "cell_type": "code",
   "execution_count": 62,
   "metadata": {},
   "outputs": [],
   "source": [
    "def get_diagonal(a, b):\n",
    "    return get_square_rt(get_square(a) + get_square(b))"
   ]
  },
  {
   "cell_type": "code",
   "execution_count": 63,
   "metadata": {},
   "outputs": [
    {
     "data": {
      "text/plain": [
       "6.4031242374328485"
      ]
     },
     "execution_count": 63,
     "metadata": {},
     "output_type": "execute_result"
    }
   ],
   "source": [
    "get_diagonal(4, 5)"
   ]
  },
  {
   "cell_type": "code",
   "execution_count": null,
   "metadata": {},
   "outputs": [],
   "source": []
  }
 ],
 "metadata": {
  "kernelspec": {
   "display_name": "Python 3",
   "language": "python",
   "name": "python3"
  },
  "language_info": {
   "codemirror_mode": {
    "name": "ipython",
    "version": 3
   },
   "file_extension": ".py",
   "mimetype": "text/x-python",
   "name": "python",
   "nbconvert_exporter": "python",
   "pygments_lexer": "ipython3",
   "version": "3.10.12"
  }
 },
 "nbformat": 4,
 "nbformat_minor": 2
}
