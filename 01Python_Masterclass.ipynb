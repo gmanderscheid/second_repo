{
 "cells": [
  {
   "cell_type": "code",
   "execution_count": 2,
   "metadata": {},
   "outputs": [],
   "source": [
    "# raccourcis : a, b, dd, shitft enter"
   ]
  },
  {
   "cell_type": "markdown",
   "metadata": {},
   "source": [
    "# Python introduction : \n",
    "----"
   ]
  },
  {
   "cell_type": "code",
   "execution_count": 3,
   "metadata": {},
   "outputs": [],
   "source": [
    "entier = int # 3\n",
    "virgule = float # 3.2\n",
    "boolean = bool # True ou false\n",
    "dictionnaire = dict # { key: value }\n",
    "liste = list # [val, val, val]\n",
    "tuples = tuple # (val, val, val)"
   ]
  },
  {
   "cell_type": "code",
   "execution_count": 4,
   "metadata": {},
   "outputs": [
    {
     "name": "stdout",
     "output_type": "stream",
     "text": [
      "['guillaume', 'kevin', 'francois']\n",
      "['guillaume', 'kevin', 'francois']\n",
      "['guillaume', 'kevin', 'francois']\n"
     ]
    }
   ],
   "source": [
    "# boucle : on défini un nombre d'étapes et ce que je fais à chaque étape.\n",
    "\n",
    "eleves = [\"guillaume\", \"kevin\", \"francois\"]\n",
    "\n",
    "for eleve in eleves: \n",
    "    print(eleves)\n"
   ]
  },
  {
   "cell_type": "code",
   "execution_count": 5,
   "metadata": {},
   "outputs": [
    {
     "name": "stdout",
     "output_type": "stream",
     "text": [
      "G\n",
      "u\n",
      "i\n",
      "l\n",
      "l\n",
      "a\n",
      "u\n",
      "m\n",
      "e\n",
      " \n",
      "M\n",
      "a\n",
      "n\n",
      "d\n",
      "e\n",
      "r\n",
      "s\n",
      "c\n",
      "h\n",
      "e\n",
      "i\n",
      "d\n"
     ]
    }
   ],
   "source": [
    "# égalité assigne la variable plutot que de faire une comparaison\n",
    "full_name = \"Guillaume Manderscheid\"\n",
    "\n",
    "for i in full_name: \n",
    "    print(i)"
   ]
  },
  {
   "cell_type": "code",
   "execution_count": 6,
   "metadata": {},
   "outputs": [
    {
     "data": {
      "text/plain": [
       "['guillaume', 'kevin', 'francois']"
      ]
     },
     "execution_count": 6,
     "metadata": {},
     "output_type": "execute_result"
    }
   ],
   "source": [
    "eleves"
   ]
  },
  {
   "cell_type": "code",
   "execution_count": 7,
   "metadata": {},
   "outputs": [
    {
     "name": "stdout",
     "output_type": "stream",
     "text": [
      "False\n",
      "False\n",
      "francois\n"
     ]
    }
   ],
   "source": [
    "# condition qui vérifie si le prénom est guilaume\n",
    "\n",
    "for eleve in eleves: \n",
    "    condition = eleve == \"francois\"\n",
    "    if eleve == \"francois\": # attend comparaison, soit true soit false. \n",
    "        print(eleve)\n",
    "    else: \n",
    "        print(condition)"
   ]
  },
  {
   "cell_type": "code",
   "execution_count": 8,
   "metadata": {},
   "outputs": [
    {
     "data": {
      "text/plain": [
       "['guillaume', 'kevin', 'francois']"
      ]
     },
     "execution_count": 8,
     "metadata": {},
     "output_type": "execute_result"
    }
   ],
   "source": [
    "eleves\n",
    "eleves\n",
    "eleves"
   ]
  },
  {
   "cell_type": "code",
   "execution_count": 9,
   "metadata": {},
   "outputs": [],
   "source": [
    "# Comment rajouter l'eleve dimitri à la liste avec append?"
   ]
  },
  {
   "cell_type": "code",
   "execution_count": 10,
   "metadata": {},
   "outputs": [],
   "source": [
    "eleves.append(\"dimitri\") # append ne retourne rien, ou retourne None"
   ]
  },
  {
   "cell_type": "code",
   "execution_count": 11,
   "metadata": {},
   "outputs": [],
   "source": [
    "eleves.remove(\"dimitri\")"
   ]
  },
  {
   "cell_type": "code",
   "execution_count": 12,
   "metadata": {},
   "outputs": [
    {
     "data": {
      "text/plain": [
       "'francois'"
      ]
     },
     "execution_count": 12,
     "metadata": {},
     "output_type": "execute_result"
    }
   ],
   "source": [
    "eleves.pop(-1)"
   ]
  },
  {
   "cell_type": "code",
   "execution_count": 13,
   "metadata": {},
   "outputs": [],
   "source": [
    "eleves.append(\"victor\")"
   ]
  },
  {
   "cell_type": "code",
   "execution_count": 14,
   "metadata": {},
   "outputs": [
    {
     "data": {
      "text/plain": [
       "'victor'"
      ]
     },
     "execution_count": 14,
     "metadata": {},
     "output_type": "execute_result"
    }
   ],
   "source": [
    "eleves[-1]"
   ]
  },
  {
   "cell_type": "code",
   "execution_count": 15,
   "metadata": {},
   "outputs": [],
   "source": [
    "for i in range(3):\n",
    "    eleves.append('dimitri')"
   ]
  },
  {
   "cell_type": "code",
   "execution_count": 16,
   "metadata": {},
   "outputs": [],
   "source": [
    "for eleve in eleves:\n",
    "    if eleve == \"dimitri\":\n",
    "        eleves.remove(eleve)"
   ]
  },
  {
   "cell_type": "code",
   "execution_count": 17,
   "metadata": {},
   "outputs": [
    {
     "data": {
      "text/plain": [
       "['guillaume', 'kevin', 'victor', 'dimitri']"
      ]
     },
     "execution_count": 17,
     "metadata": {},
     "output_type": "execute_result"
    }
   ],
   "source": [
    "eleves"
   ]
  },
  {
   "cell_type": "code",
   "execution_count": 18,
   "metadata": {},
   "outputs": [],
   "source": [
    "for index, eleve in enumerate(eleves):\n",
    "    if eleve == 'dimitri':\n",
    "        eleves.pop(index)"
   ]
  },
  {
   "cell_type": "code",
   "execution_count": 19,
   "metadata": {},
   "outputs": [
    {
     "data": {
      "text/plain": [
       "['guillaume', 'kevin', 'victor']"
      ]
     },
     "execution_count": 19,
     "metadata": {},
     "output_type": "execute_result"
    }
   ],
   "source": [
    "eleves"
   ]
  },
  {
   "cell_type": "code",
   "execution_count": 20,
   "metadata": {},
   "outputs": [],
   "source": [
    "my_list = []\n",
    "for i in range(10):\n",
    "    my_list.append(i)"
   ]
  },
  {
   "cell_type": "code",
   "execution_count": 21,
   "metadata": {},
   "outputs": [],
   "source": [
    "my_list = [i for i in range(10)]"
   ]
  },
  {
   "cell_type": "code",
   "execution_count": 24,
   "metadata": {},
   "outputs": [
    {
     "data": {
      "text/plain": [
       "[0, 1, 2, 3, 4, 5, 6, 7, 8, 9]"
      ]
     },
     "execution_count": 24,
     "metadata": {},
     "output_type": "execute_result"
    }
   ],
   "source": [
    "my_list"
   ]
  },
  {
   "cell_type": "code",
   "execution_count": 31,
   "metadata": {},
   "outputs": [],
   "source": [
    "my_second_list = [i for i in range(10, 20)]\n",
    "my_list.append(my_second_list)"
   ]
  },
  {
   "cell_type": "code",
   "execution_count": 32,
   "metadata": {},
   "outputs": [
    {
     "data": {
      "text/plain": [
       "12"
      ]
     },
     "execution_count": 32,
     "metadata": {},
     "output_type": "execute_result"
    }
   ],
   "source": [
    "len(my_list)"
   ]
  },
  {
   "cell_type": "code",
   "execution_count": 33,
   "metadata": {},
   "outputs": [],
   "source": [
    "my_list.extend(my_second_list)"
   ]
  },
  {
   "cell_type": "code",
   "execution_count": 37,
   "metadata": {},
   "outputs": [],
   "source": [
    "for i,j in enumerate(my_list):\n",
    "    if type(j) == list:\n",
    "        my_list.pop(i)"
   ]
  },
  {
   "cell_type": "code",
   "execution_count": 39,
   "metadata": {},
   "outputs": [
    {
     "data": {
      "text/plain": [
       "20"
      ]
     },
     "execution_count": 39,
     "metadata": {},
     "output_type": "execute_result"
    }
   ],
   "source": [
    "len(my_list)"
   ]
  },
  {
   "cell_type": "code",
   "execution_count": 45,
   "metadata": {},
   "outputs": [
    {
     "data": {
      "text/plain": [
       "[0, 1, 2, 3]"
      ]
     },
     "execution_count": 45,
     "metadata": {},
     "output_type": "execute_result"
    }
   ],
   "source": [
    "my_list[:4] # my_list[0:4]"
   ]
  },
  {
   "cell_type": "code",
   "execution_count": 46,
   "metadata": {},
   "outputs": [
    {
     "data": {
      "text/plain": [
       "[17, 18]"
      ]
     },
     "execution_count": 46,
     "metadata": {},
     "output_type": "execute_result"
    }
   ],
   "source": [
    "my_list[-3:-1] "
   ]
  },
  {
   "cell_type": "code",
   "execution_count": 50,
   "metadata": {},
   "outputs": [],
   "source": [
    "eleves = {\"id\": 1,\n",
    "          \"data\": {\"prenom\":\"Guillaume\", \"nom\": \"Manderscheid\"}\n",
    "          }"
   ]
  },
  {
   "cell_type": "code",
   "execution_count": 57,
   "metadata": {},
   "outputs": [
    {
     "name": "stdout",
     "output_type": "stream",
     "text": [
      "Guillaume\n"
     ]
    }
   ],
   "source": [
    "for key in eleves.keys():\n",
    "    if eleves[key] == 1:\n",
    "        print(eleves[\"data\"][\"prenom\"])"
   ]
  },
  {
   "cell_type": "code",
   "execution_count": 55,
   "metadata": {},
   "outputs": [
    {
     "data": {
      "text/plain": [
       "dict_keys(['prenom', 'nom'])"
      ]
     },
     "execution_count": 55,
     "metadata": {},
     "output_type": "execute_result"
    }
   ],
   "source": [
    "eleves[\"data\"].keys()"
   ]
  },
  {
   "cell_type": "code",
   "execution_count": 60,
   "metadata": {},
   "outputs": [],
   "source": [
    "dictionary_comp = {key: value+1 for key, value in enumerate(range(10))}"
   ]
  },
  {
   "cell_type": "code",
   "execution_count": 64,
   "metadata": {},
   "outputs": [],
   "source": [
    "eleves[\"is_good_student\"] = False"
   ]
  },
  {
   "cell_type": "code",
   "execution_count": 65,
   "metadata": {},
   "outputs": [
    {
     "data": {
      "text/plain": [
       "{'id': 1,\n",
       " 'data': {'prenom': 'Guillaume', 'nom': 'Manderscheid'},\n",
       " 'is_good_student': False}"
      ]
     },
     "execution_count": 65,
     "metadata": {},
     "output_type": "execute_result"
    }
   ],
   "source": [
    "eleves"
   ]
  },
  {
   "cell_type": "code",
   "execution_count": null,
   "metadata": {},
   "outputs": [],
   "source": [
    "# trouver tous les nombres pairs de 0 à n en printant even if True et odd if false.\n",
    "# trouver tous les nombres premiers de 0 à n en printant premier if True et rien if false. divisible que par lui meme "
   ]
  },
  {
   "cell_type": "code",
   "execution_count": null,
   "metadata": {},
   "outputs": [],
   "source": [
    "if i % 2 == 1:\n",
    "    print(\"impair\")\n",
    "elif i % 2 == 0:\n",
    "    print(\"pair\")"
   ]
  },
  {
   "cell_type": "code",
   "execution_count": 93,
   "metadata": {},
   "outputs": [
    {
     "name": "stdout",
     "output_type": "stream",
     "text": [
      "0 pair\n",
      "1 impair\n",
      "2 pair\n",
      "3 impair\n",
      "4 pair\n",
      "5 impair\n",
      "6 pair\n",
      "7 impair\n",
      "8 pair\n",
      "9 impair\n"
     ]
    }
   ],
   "source": [
    "# trouver tous les nombres pairs de 0 à n en printant even if True et odd if false.\n",
    "\n",
    "n = 10\n",
    "for i in range(n):\n",
    "    if i % 2 == 1:\n",
    "        print(f\"{i} impair\")\n",
    "    elif i % 2 == 0:\n",
    "        print(f\"{i} pair\")"
   ]
  },
  {
   "cell_type": "code",
   "execution_count": 114,
   "metadata": {},
   "outputs": [],
   "source": [
    "# trouver tous les nombres premiers de 0 à n en printant premier if True et rien if false. divisible que par lui meme \n",
    "\n",
    "prime_numbers = []\n",
    "for value in range(3, 50):\n",
    "    if value % 2 == 1:\n",
    "        nb_of_divisions = 0\n",
    "        for i in range(2, value+1):\n",
    "            if value % i == 0:\n",
    "                nb_of_divisions += 1\n",
    "        if nb_of_divisions == 1:\n",
    "            prime_numbers.append(value)"
   ]
  },
  {
   "cell_type": "code",
   "execution_count": 118,
   "metadata": {},
   "outputs": [],
   "source": [
    "def return_range_values(end_value):\n",
    "    \"\"\"\n",
    "    Les paramètres en entrée (leur type, les caviats)\n",
    "    La nature de l'objet en sortie\n",
    "\n",
    "    Takes a integer as input \n",
    "    Returns a list of integers from 0 to de value of end_value\n",
    "    \"\"\"\n",
    "\n",
    "    return [i for i in range(end_value)]"
   ]
  },
  {
   "cell_type": "code",
   "execution_count": 119,
   "metadata": {},
   "outputs": [
    {
     "data": {
      "text/plain": [
       "[0, 1, 2, 3]"
      ]
     },
     "execution_count": 119,
     "metadata": {},
     "output_type": "execute_result"
    }
   ],
   "source": [
    "return_range_values()"
   ]
  },
  {
   "cell_type": "code",
   "execution_count": 120,
   "metadata": {},
   "outputs": [],
   "source": [
    "def return_range_values(end_value, start_value=0):\n",
    "    \"\"\"\n",
    "    Les paramètres en entrée (leur type, les caviats)\n",
    "    La nature de l'objet en sortie\n",
    "\n",
    "    Takes a integer as input \n",
    "    Returns a list of integers from 0 to de value of end_value\n",
    "    \"\"\"\n",
    "\n",
    "    return [i for i in range(start_value, end_value)]"
   ]
  },
  {
   "cell_type": "code",
   "execution_count": 122,
   "metadata": {},
   "outputs": [
    {
     "data": {
      "text/plain": [
       "[2, 3, 4]"
      ]
     },
     "execution_count": 122,
     "metadata": {},
     "output_type": "execute_result"
    }
   ],
   "source": [
    "return_range_values(5, 2)"
   ]
  },
  {
   "cell_type": "code",
   "execution_count": 126,
   "metadata": {},
   "outputs": [],
   "source": [
    "def get_prime_numbers(n):\n",
    "    \"\"\"\n",
    "    Takes an integer n as in input \n",
    "    Returns all prime numbers from 2 to n-1 as an output\n",
    "    \"\"\"\n",
    "    prime_numbers = []\n",
    "    for value in range(3, n):\n",
    "        if value % 2 == 1:\n",
    "            nb_of_divisions = 0\n",
    "            for i in range(2, value+1):\n",
    "                if value % i == 0:\n",
    "                    nb_of_divisions += 1\n",
    "            if nb_of_divisions == 1:\n",
    "                prime_numbers.append(value)\n",
    "    return prime_numbers"
   ]
  },
  {
   "cell_type": "code",
   "execution_count": 131,
   "metadata": {},
   "outputs": [
    {
     "name": "stdout",
     "output_type": "stream",
     "text": [
      "8.97 ms ± 168 µs per loop (mean ± std. dev. of 7 runs, 100 loops each)\n"
     ]
    }
   ],
   "source": [
    "%%timeit\n",
    "get_prime_numbers(1000)"
   ]
  },
  {
   "cell_type": "code",
   "execution_count": 132,
   "metadata": {},
   "outputs": [],
   "source": [
    "def get_prime_numbers_non_optimised(n):\n",
    "    \"\"\"\n",
    "    Takes an integer n as in input \n",
    "    Returns all prime numbers from 2 to n-1 as an output\n",
    "    \"\"\"\n",
    "    prime_numbers = []\n",
    "    for value in range(3, n):\n",
    "            nb_of_divisions = 0\n",
    "            for i in range(2, value+1):\n",
    "                if value % i == 0:\n",
    "                    nb_of_divisions += 1\n",
    "            if nb_of_divisions == 1:\n",
    "                prime_numbers.append(value)\n",
    "    return prime_numbers"
   ]
  },
  {
   "cell_type": "code",
   "execution_count": 133,
   "metadata": {},
   "outputs": [
    {
     "name": "stdout",
     "output_type": "stream",
     "text": [
      "17.2 ms ± 244 µs per loop (mean ± std. dev. of 7 runs, 100 loops each)\n"
     ]
    }
   ],
   "source": [
    "%%timeit\n",
    "get_prime_numbers_non_optimised(1000)"
   ]
  },
  {
   "cell_type": "code",
   "execution_count": 136,
   "metadata": {},
   "outputs": [],
   "source": [
    "i = 0\n",
    "while i != 50:\n",
    "    i += 1"
   ]
  },
  {
   "cell_type": "code",
   "execution_count": 137,
   "metadata": {},
   "outputs": [],
   "source": [
    "i = 0\n",
    "while True:\n",
    "    i += 1\n",
    "    if i == 50:\n",
    "        break"
   ]
  },
  {
   "cell_type": "code",
   "execution_count": null,
   "metadata": {},
   "outputs": [],
   "source": [
    "# boucle récursive. \n",
    "\n",
    "[1, 2, 3, 4]\n",
    "a = 1+2\n",
    "a = a + 3\n",
    "a = a + 4\n",
    "\n",
    "list_ = [1, 2, 3, 4]\n",
    "\n",
    "def recursive(a,b):\n",
    "    return recursive(list_[0], list_[1])"
   ]
  },
  {
   "cell_type": "code",
   "execution_count": 140,
   "metadata": {},
   "outputs": [
    {
     "name": "stdout",
     "output_type": "stream",
     "text": [
      "0.5\n",
      "1.0\n",
      "1.5\n",
      "for value odij function doesnt work\n"
     ]
    }
   ],
   "source": [
    "my_list = [1, 2, 3, \"odij\"]\n",
    "\n",
    "for i in my_list: \n",
    "    try : \n",
    "        print(i / 2)\n",
    "    except:\n",
    "        print(f\"for value {i} function doesnt work\")"
   ]
  },
  {
   "cell_type": "code",
   "execution_count": 142,
   "metadata": {},
   "outputs": [
    {
     "ename": "ValueError",
     "evalue": "The value of total addition is negative, for this usecase we only accept positive transactions",
     "output_type": "error",
     "traceback": [
      "\u001b[0;31m---------------------------------------------------------------------------\u001b[0m",
      "\u001b[0;31mValueError\u001b[0m                                Traceback (most recent call last)",
      "Cell \u001b[0;32mIn[142], line 3\u001b[0m\n\u001b[1;32m      1\u001b[0m total_addition \u001b[38;5;241m=\u001b[39m \u001b[38;5;241m-\u001b[39m\u001b[38;5;241m1\u001b[39m\n\u001b[1;32m      2\u001b[0m \u001b[38;5;28;01mif\u001b[39;00m total_addition \u001b[38;5;241m<\u001b[39m \u001b[38;5;241m0\u001b[39m:\n\u001b[0;32m----> 3\u001b[0m     \u001b[38;5;28;01mraise\u001b[39;00m \u001b[38;5;167;01mValueError\u001b[39;00m(\u001b[38;5;124m\"\u001b[39m\u001b[38;5;124mThe value of total addition is negative, for this usecase we only accept positive transactions\u001b[39m\u001b[38;5;124m\"\u001b[39m)\n",
      "\u001b[0;31mValueError\u001b[0m: The value of total addition is negative, for this usecase we only accept positive transactions"
     ]
    }
   ],
   "source": [
    "total_addition = -1\n",
    "if total_addition < 0:\n",
    "    raise ValueError(\"The value of total addition is negative, for this usecase we only accept positive transactions\")"
   ]
  },
  {
   "cell_type": "code",
   "execution_count": null,
   "metadata": {},
   "outputs": [],
   "source": []
  }
 ],
 "metadata": {
  "kernelspec": {
   "display_name": "Python 3",
   "language": "python",
   "name": "python3"
  },
  "language_info": {
   "codemirror_mode": {
    "name": "ipython",
    "version": 3
   },
   "file_extension": ".py",
   "mimetype": "text/x-python",
   "name": "python",
   "nbconvert_exporter": "python",
   "pygments_lexer": "ipython3",
   "version": "3.10.12"
  }
 },
 "nbformat": 4,
 "nbformat_minor": 2
}
