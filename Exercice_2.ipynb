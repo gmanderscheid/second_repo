{
 "cells": [
  {
   "cell_type": "code",
   "execution_count": null,
   "metadata": {},
   "outputs": [],
   "source": [
    "# Create a class that holds all functions from the previous exercise\n",
    "# Create a class Store that holds an address, a name, and a list of customers. \n",
    "    # Also add a method that computes the number of customers\n",
    "# Create a class GarageStore that inherits from the store class\n",
    "    # Also add an init with the type of cars\n",
    "# Create a class GroceryStore that inherits from the store class\n",
    "    # Also add a init with the types of food and a list of sale numbers\n",
    "    # And a method that computes the sum of all the sales"
   ]
  }
 ],
 "metadata": {
  "language_info": {
   "name": "python"
  }
 },
 "nbformat": 4,
 "nbformat_minor": 2
}
